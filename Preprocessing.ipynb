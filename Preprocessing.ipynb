{
 "cells": [
  {
   "cell_type": "code",
   "execution_count": 1,
   "metadata": {},
   "outputs": [],
   "source": [
    "import pandas as pd"
   ]
  },
  {
   "cell_type": "code",
   "execution_count": 2,
   "metadata": {},
   "outputs": [],
   "source": [
    "# Đọc dữ liệu từ file CSV\n",
    "df = pd.read_csv('Data/data.csv')"
   ]
  },
  {
   "cell_type": "code",
   "execution_count": 3,
   "metadata": {},
   "outputs": [],
   "source": [
    "# Loại bỏ các cột không cần thiết\n",
    "df = df.drop(columns=['Detail'])  # Ví dụ: loại bỏ cột 'Detail'\n",
    "df = df.drop(columns=['ID'])"
   ]
  },
  {
   "cell_type": "code",
   "execution_count": 4,
   "metadata": {},
   "outputs": [
    {
     "name": "stdout",
     "output_type": "stream",
     "text": [
      "object\n",
      "Tổng số dòng dữ liệu không hợp lệ trong cột 'Rating': 25\n"
     ]
    }
   ],
   "source": [
    "# Kiểm tra kiểu dữ liệu của cột 'Rating'\n",
    "print(df['Rating'].dtype)\n",
    "\n",
    "# Lọc các dòng dữ liệu có kiểu dữ liệu khác với \"4.3 out of 5 stars\"\n",
    "invalid_ratings = df[~df['Rating'].str.contains(' out of 5 stars', na=False)]\n",
    "\n",
    "# Đếm số lượng dòng dữ liệu không hợp lệ\n",
    "print(f\"Tổng số dòng dữ liệu không hợp lệ trong cột 'Rating': {len(invalid_ratings)}\")\n",
    "\n",
    "# Loại bỏ các dòng không hợp lệ ra khỏi DataFrame\n",
    "df = df.drop(invalid_ratings.index)"
   ]
  },
  {
   "cell_type": "code",
   "execution_count": 5,
   "metadata": {},
   "outputs": [
    {
     "name": "stderr",
     "output_type": "stream",
     "text": [
      "<>:2: SyntaxWarning: invalid escape sequence '\\d'\n",
      "<>:2: SyntaxWarning: invalid escape sequence '\\d'\n",
      "C:\\Users\\AD\\AppData\\Local\\Temp\\ipykernel_26484\\26860179.py:2: SyntaxWarning: invalid escape sequence '\\d'\n",
      "  df['Rating'] = df['Rating'].str.extract('(\\d+\\.\\d+)', expand=False)\n"
     ]
    }
   ],
   "source": [
    "# Lấy số điểm đánh giá từ mỗi chuỗi trong cột 'Rating'\n",
    "df['Rating'] = df['Rating'].str.extract('(\\d+\\.\\d+)', expand=False)\n",
    "\n",
    "# Chuyển đổi kiểu dữ liệu của cột 'Rating' thành float\n",
    "df['Rating'] = df['Rating'].astype(float)\n",
    "\n",
    "# Làm tròn số điểm đánh giá theo quy tắc làm tròn đến 0.5\n",
    "df['Rating'] = df['Rating'].apply(lambda x: round(x * 2) / 2)"
   ]
  },
  {
   "cell_type": "code",
   "execution_count": 6,
   "metadata": {},
   "outputs": [],
   "source": [
    "df['Title'] = df['Title'].astype(str)\n",
    "df['Description'] = df['Description'].astype(str)\n",
    "df['Image_url'] = df['Image_url'].astype(str)\n",
    "df['Department'] = df['Department'].astype(str)"
   ]
  },
  {
   "cell_type": "code",
   "execution_count": 7,
   "metadata": {},
   "outputs": [],
   "source": [
    "# Lọc và thay đổi kiểu giá trị của cột 'Price'\n",
    "df['Price'] = df['Price'].str.extract(r'(\\d+\\.\\d+)', expand=False).astype(float)"
   ]
  },
  {
   "cell_type": "code",
   "execution_count": 8,
   "metadata": {},
   "outputs": [
    {
     "name": "stdout",
     "output_type": "stream",
     "text": [
      "Unnamed: 0        int64\n",
      "Title            object\n",
      "Price           float64\n",
      "Rating          float64\n",
      "Review Count      int32\n",
      "Description      object\n",
      "Image_url        object\n",
      "Department       object\n",
      "dtype: object\n"
     ]
    }
   ],
   "source": [
    "# Thay thế các giá trị NaN trong cột 'Review Count' bằng 0\n",
    "df['Review Count'] = df['Review Count'].fillna('0')\n",
    "\n",
    "# Lọc và thay đổi kiểu giá trị của cột 'Review Count'\n",
    "df['Review Count'] = df['Review Count'].str.extract(r'(\\d+)', expand=False).astype(int)\n",
    "\n",
    "# Kiểm tra lại kiểu dữ liệu mới của các cột\n",
    "print(df.dtypes)"
   ]
  },
  {
   "cell_type": "code",
   "execution_count": 9,
   "metadata": {},
   "outputs": [
    {
     "data": {
      "text/plain": [
       "array(['Clothig for girl', 'Clothig for men', 'Sport Shoes',\n",
       "       'Sport Accessories', 'Sport Equipment'], dtype=object)"
      ]
     },
     "execution_count": 9,
     "metadata": {},
     "output_type": "execute_result"
    }
   ],
   "source": [
    "df['Department'].unique()"
   ]
  },
  {
   "cell_type": "code",
   "execution_count": 10,
   "metadata": {},
   "outputs": [
    {
     "name": "stdout",
     "output_type": "stream",
     "text": [
      "['Girl Clothes' 'Men Clothes' 'Sport Shoes' 'Sport Accessories'\n",
      " 'Sport Equipment']\n"
     ]
    }
   ],
   "source": [
    "# Thay thế các giá trị trong cột 'Department'\n",
    "df['Department'] = df['Department'].replace('Clothig for girl', 'Girl Clothes')\n",
    "df['Department'] = df['Department'].replace('Clothig for men', 'Men Clothes')\n",
    "\n",
    "# Kiểm tra lại dữ liệu sau khi thay đổi\n",
    "print(df['Department'].unique())"
   ]
  },
  {
   "cell_type": "code",
   "execution_count": 11,
   "metadata": {},
   "outputs": [],
   "source": [
    "df = df.dropna()"
   ]
  },
  {
   "cell_type": "code",
   "execution_count": 12,
   "metadata": {},
   "outputs": [],
   "source": [
    "# # Định nghĩa hàm lựa chọn 20 dòng dữ liệu cho mỗi giá trị trong cột 'Department'\n",
    "# def top_product(df_group):\n",
    "#     return df_group.sort_values(by=['Review Count', 'Rating'], ascending=[False, False]).head(12)\n",
    "\n",
    "# # Chọn ra 20 dòng dữ liệu cho mỗi giá trị trong cột 'Department'\n",
    "# selected_data = df.groupby('Department').apply(top_product)\n",
    "\n",
    "# # In ra một số dòng đầu tiên của dữ liệu đã chọn\n",
    "# selected_data"
   ]
  },
  {
   "cell_type": "markdown",
   "metadata": {},
   "source": [
    "Save file"
   ]
  },
  {
   "cell_type": "code",
   "execution_count": 13,
   "metadata": {},
   "outputs": [
    {
     "ename": "NameError",
     "evalue": "name 'selected_data' is not defined",
     "output_type": "error",
     "traceback": [
      "\u001b[1;31m---------------------------------------------------------------------------\u001b[0m",
      "\u001b[1;31mNameError\u001b[0m                                 Traceback (most recent call last)",
      "Cell \u001b[1;32mIn[13], line 1\u001b[0m\n\u001b[1;32m----> 1\u001b[0m \u001b[43mselected_data\u001b[49m\u001b[38;5;241m.\u001b[39mto_csv(\u001b[38;5;124m'\u001b[39m\u001b[38;5;124mData/final_data.csv\u001b[39m\u001b[38;5;124m'\u001b[39m, index\u001b[38;5;241m=\u001b[39m\u001b[38;5;28;01mFalse\u001b[39;00m)\n",
      "\u001b[1;31mNameError\u001b[0m: name 'selected_data' is not defined"
     ]
    }
   ],
   "source": [
    "df.to_csv('Data/final_data.csv', index=False)"
   ]
  }
 ],
 "metadata": {
  "kernelspec": {
   "display_name": "Python 3",
   "language": "python",
   "name": "python3"
  },
  "language_info": {
   "codemirror_mode": {
    "name": "ipython",
    "version": 3
   },
   "file_extension": ".py",
   "mimetype": "text/x-python",
   "name": "python",
   "nbconvert_exporter": "python",
   "pygments_lexer": "ipython3",
   "version": "3.12.3"
  }
 },
 "nbformat": 4,
 "nbformat_minor": 2
}
